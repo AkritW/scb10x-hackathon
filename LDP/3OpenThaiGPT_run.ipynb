{
 "cells": [
  {
   "cell_type": "code",
   "execution_count": null,
   "id": "ba55a49c-540c-4647-a0bf-19784574e179",
   "metadata": {},
   "outputs": [],
   "source": []
  },
  {
   "cell_type": "code",
   "execution_count": 2,
   "id": "cd3c1669-11fc-4c56-b30c-f749081e5ba8",
   "metadata": {},
   "outputs": [
    {
     "name": "stdout",
     "output_type": "stream",
     "text": [
      "/workspace/openthaigpt-finetune\n"
     ]
    },
    {
     "name": "stderr",
     "output_type": "stream",
     "text": [
      "/usr/local/lib/python3.10/dist-packages/IPython/core/magics/osm.py:417: UserWarning: using dhist requires you to install the `pickleshare` library.\n",
      "  self.shell.db['dhist'] = compress_dhist(dhist)[-100:]\n"
     ]
    }
   ],
   "source": [
    "%cd openthaigpt-finetune"
   ]
  },
  {
   "cell_type": "code",
   "execution_count": null,
   "id": "d8a71c7c-371b-45c5-8791-b8f8eaaab094",
   "metadata": {},
   "outputs": [
    {
     "name": "stdout",
     "output_type": "stream",
     "text": [
      "base_model: openthaigpt/openthaigpt-1.0.0-beta-7b-chat-ckpt-hf\n",
      "lora_weights: ./synthetic_v1\n",
      "You are using the default legacy behaviour of the <class 'transformers.models.llama.tokenization_llama.LlamaTokenizer'>. This is expected, and simply means that the `legacy` (previous) behavior will be used so nothing changes for you. If you want to use the new behaviour, set `legacy=False`. This should only be set if you understand what it means, and thouroughly read the reason why this was added as explained in https://github.com/huggingface/transformers/pull/24565\n",
      "Loading checkpoint shards: 100%|██████████████████| 2/2 [00:05<00:00,  2.99s/it]\n",
      "/workspace/openthaigpt-finetune/generate.py:192: GradioDeprecationWarning: Usage of gradio.inputs is deprecated, and will not be supported in the future, please import your component from gradio.components\n",
      "  gr.inputs.Textbox(\n",
      "/workspace/openthaigpt-finetune/generate.py:192: GradioDeprecationWarning: `optional` parameter is deprecated, and it has no effect\n",
      "  gr.inputs.Textbox(\n",
      "/workspace/openthaigpt-finetune/generate.py:192: GradioDeprecationWarning: `numeric` parameter is deprecated, and it has no effect\n",
      "  gr.inputs.Textbox(\n",
      "Running on local URL:  http://0.0.0.0:7860\n",
      "Running on public URL: https://7c2b5f4d0022f0cc5a.gradio.live\n",
      "\n",
      "This share link expires in 72 hours. For free permanent hosting and GPU upgrades, run `gradio deploy` from Terminal to deploy to Spaces (https://huggingface.co/spaces)\n"
     ]
    }
   ],
   "source": [
    "\n",
    "! python generate.py \\\n",
    "    --base_model 'openthaigpt/openthaigpt-1.0.0-beta-7b-chat-ckpt-hf' \\\n",
    "    --lora_weights './synthetic_v2' \\\n",
    "    --share_gradio 'true'"
   ]
  }
 ],
 "metadata": {
  "kernelspec": {
   "display_name": "Python 3 (ipykernel)",
   "language": "python",
   "name": "python3"
  },
  "language_info": {
   "codemirror_mode": {
    "name": "ipython",
    "version": 3
   },
   "file_extension": ".py",
   "mimetype": "text/x-python",
   "name": "python",
   "nbconvert_exporter": "python",
   "pygments_lexer": "ipython3",
   "version": "3.10.12"
  }
 },
 "nbformat": 4,
 "nbformat_minor": 5
}
